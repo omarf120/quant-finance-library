{
 "cells": [
  {
   "cell_type": "markdown",
   "metadata": {},
   "source": [
    "### Bits:\n",
    "**1a**. **`8 bits`**\n",
    "**1b**. **`64 bits`**\n",
    "\n",
    "### Results from Operations:\n",
    "**2**. `-1 1`  \n",
    "**3**. `16`  \n",
    "**4**. `1 0`  \n",
    "**5**. `0 0`  \n",
    "\n",
    "### Operators and Overloading:\n",
    "**6**. Operators that can be overloaded:  \n",
    "    - **(b)** `%`  \n",
    "    - **(d)** `==`\n",
    "\n",
    "### Output of Code Snippets:\n",
    "**7**. `10`  \n",
    "**8**.  \n",
    "    `1`  \n",
    "    `3`   \n",
    "    `4`   \n",
    "    `2`  \n",
    "    \n",
    "\n",
    "**9**. `0 0`  \n",
    "**10**.  \n",
    "    `1 0`  \n",
    "    `2 1`  \n",
    "    `1.2 0`  \n",
    "    \n"
   ]
  },
  {
   "cell_type": "code",
   "execution_count": 49,
   "metadata": {},
   "outputs": [],
   "source": [
    "import qflib as qf\n",
    "import numpy as np"
   ]
  },
  {
   "cell_type": "code",
   "execution_count": 50,
   "metadata": {},
   "outputs": [
    {
     "name": "stdout",
     "output_type": "stream",
     "text": [
      "[1.]\n",
      "[1. 1.]\n",
      "[1. 2. 1.]\n",
      "[1. 3. 3. 1.]\n",
      "[1. 4. 6. 4. 1.]\n",
      "[ 1.  5. 10. 10.  5.  1.]\n",
      "[ 1.  6. 15. 20. 15.  6.  1.]\n",
      "[ 1.  7. 21. 35. 35. 21.  7.  1.]\n"
     ]
    }
   ],
   "source": [
    "l = [np.array([1.]), np.array([1., 1.])]\n",
    "for i in range(6):\n",
    "    l.append(qf.polyProd(l[1], l[-1]))\n",
    "for row in l:\n",
    "    print(row)"
   ]
  }
 ],
 "metadata": {
  "kernelspec": {
   "display_name": "qfgb",
   "language": "python",
   "name": "python3"
  },
  "language_info": {
   "codemirror_mode": {
    "name": "ipython",
    "version": 3
   },
   "file_extension": ".py",
   "mimetype": "text/x-python",
   "name": "python",
   "nbconvert_exporter": "python",
   "pygments_lexer": "ipython3",
   "version": "3.12.8"
  }
 },
 "nbformat": 4,
 "nbformat_minor": 2
}
