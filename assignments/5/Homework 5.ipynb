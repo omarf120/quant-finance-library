{
 "cells": [
  {
   "cell_type": "code",
   "execution_count": 2,
   "metadata": {},
   "outputs": [],
   "source": [
    "import qflib as qf\n",
    "import pandas as pd\n",
    "import numpy as np\n",
    "from IPython.display import display, Markdown"
   ]
  },
  {
   "cell_type": "code",
   "execution_count": 3,
   "metadata": {},
   "outputs": [],
   "source": [
    "time_values = np.arange(0, 2.25, 0.25)\n",
    "num_rows = len(time_values)  \n",
    "\n",
    "data = {\n",
    "    'Time': time_values,\n",
    "    'Spot': [100.00, 105.00, 110.00, 92.00, 103.00, 90.00, 110.00, 95.00, 88.00],\n",
    "    'Price': [17.78, 19.72] + [np.nan] * (num_rows - 2),\n",
    "    'Delta': [0.60, 0.64] + [np.nan] * (num_rows - 2),\n",
    "    'Growth': [1.0000, 1.0101] + [np.nan] * (num_rows - 2),\n",
    "    'Opt_Units': [-10000, -10000] + [np.nan] * (num_rows - 2),\n",
    "    'Stk_Units': [5960.30] + [np.nan] * (num_rows - 1),\n",
    "    'Opt_Val': [-177773.03] + [np.nan] * (num_rows - 1),\n",
    "    'Stk_Val': [596030.41] + [np.nan] * (num_rows - 1),\n",
    "    'Cash_Acc': [-418257.38] + [np.nan] * (num_rows - 1),\n",
    "    'Total_Val': [0] + [np.nan] * (num_rows - 1),\n",
    "}\n",
    "\n",
    "df = pd.DataFrame(data)"
   ]
  },
  {
   "cell_type": "code",
   "execution_count": 4,
   "metadata": {},
   "outputs": [
    {
     "name": "stdout",
     "output_type": "stream",
     "text": [
      "   Time   Spot      Price     Delta   Growth  Opt_Units    Stk_Units  \\\n",
      "0  0.00  100.0  17.777303  0.596030  1.00000   -10000.0  5960.304084   \n",
      "1  0.25  105.0  19.716559  0.636273  1.01005   -10000.0  6362.727734   \n",
      "2  0.50  110.0  21.762433  0.679434  1.01005   -10000.0  6794.341178   \n",
      "3  0.75   92.0   9.796680  0.485182  1.01005   -10000.0  4851.822012   \n",
      "4  1.00  103.0  14.346481  0.611344  1.01005   -10000.0  6113.436213   \n",
      "5  1.25   90.0   5.975691  0.407596  1.01005   -10000.0  4075.958380   \n",
      "6  1.50  110.0  15.232479  0.719351  1.01005   -10000.0  7193.507103   \n",
      "7  1.75   95.0   3.818531  0.405606  1.01005   -10000.0  4056.061287   \n",
      "8  2.00   88.0   0.000000  0.000000  1.01005   -10000.0     0.000000   \n",
      "\n",
      "         Opt_Val        Stk_Val       Cash_Acc     Total_Val  \n",
      "0 -177773.031045  596030.408427 -418257.377382      0.000000  \n",
      "1 -197165.585981  668086.412094 -464715.417155   6205.408958  \n",
      "2 -217624.330729  747377.529594 -516863.363573  12889.835293  \n",
      "3  -97966.802243  446367.625126 -343346.163474   5054.659408  \n",
      "4 -143464.811956  629683.929890 -476743.112415   9476.005520  \n",
      "5  -59756.909012  366836.254239 -298161.455463   8917.889765  \n",
      "6 -152324.789430  791285.781342 -644088.387402  -5127.395490  \n",
      "7  -38185.312688  385325.822303 -352504.230820  -5363.721205  \n",
      "8      -0.000000       0.000000     886.436053    886.436053  \n"
     ]
    },
    {
     "data": {
      "text/markdown": [
       "### The final P&L is $**886.44**"
      ],
      "text/plain": [
       "<IPython.core.display.Markdown object>"
      ]
     },
     "metadata": {},
     "output_type": "display_data"
    }
   ],
   "source": [
    "IntRate = 0.04\n",
    "DivYield = 0.02\n",
    "Volatility = 0.3\n",
    "Strike = 100.00\n",
    "\n",
    "for i, (Time, Spot) in enumerate(zip(df['Time'], df['Spot'])):\n",
    "    price_greeks = qf.euroBS(1, Spot, Strike, 2 - Time, IntRate, DivYield, Volatility)\n",
    "    \n",
    "    Price= price_greeks[0]\n",
    "    df.at[i, 'Price'] = Price\n",
    "\n",
    "    Delta = price_greeks[1]\n",
    "    df.at[i, 'Delta'] = Delta\n",
    "\n",
    "    Growth = np.exp(IntRate * (Time - (df.at[i - 1, 'Time'] if i > 0 else Time)))\n",
    "    df.at[i, 'Growth'] = Growth\n",
    "\n",
    "    Opt_Units = -10000\n",
    "    df.at[i, 'Opt_Units'] = Opt_Units\n",
    "\n",
    "    Stk_Units = Delta * -Opt_Units\n",
    "    df.at[i, 'Stk_Units'] = Stk_Units\n",
    "\n",
    "    Opt_Val = Price * Opt_Units\n",
    "    df.at[i, 'Opt_Val'] = Opt_Val\n",
    "\n",
    "    Stk_Val = Spot * Stk_Units\n",
    "    df.at[i, 'Stk_Val'] = Stk_Val\n",
    "\n",
    "    if i == 0:\n",
    "        Cash_Acc = -Opt_Val - Stk_Val\n",
    "    else:\n",
    "        Prev_Growth = df.at[i - 1, 'Cash_Acc'] * Growth\n",
    "        Change_Hedge = Opt_Units * (Delta - df.at[i - 1, 'Delta']) * Spot\n",
    "        Cash_Acc = Prev_Growth + Change_Hedge\n",
    "    df.at[i, 'Cash_Acc'] = Cash_Acc\n",
    "\n",
    "    Total_Val = Cash_Acc + Stk_Val + Opt_Val\n",
    "    df.at[i, 'Total_Val'] = Total_Val\n",
    "\n",
    "Total_PNL = df['Total_Val'].iloc[-1]\n",
    "print(df)\n",
    "display(Markdown(f\"### The final P&L is $**{Total_PNL:.2f}**\"))\n"
   ]
  },
  {
   "cell_type": "code",
   "execution_count": 14,
   "metadata": {},
   "outputs": [
    {
     "data": {
      "image/png": "[encoded data removed]",
      "text/plain": [
       "<Figure size 640x480 with 1 Axes>"
      ]
     },
     "metadata": {},
     "output_type": "display_data"
    },
    {
     "data": {
      "text/markdown": [
       "### The graph of the sum of the piecewise polynomials is correct."
      ],
      "text/plain": [
       "<IPython.core.display.Markdown object>"
      ]
     },
     "metadata": {},
     "output_type": "display_data"
    }
   ],
   "source": [
    "import numpy as np\n",
    "import matplotlib.pyplot as plt\n",
    "\n",
    "x = np.linspace(0, 3, 1000)\n",
    "\n",
    "breakpoints1 = np.array([0, 1, 2, 3]) \n",
    "values1 = np.array([2, 3, 1, 3]) \n",
    "\n",
    "breakpoints2 = np.array([0, 1.5, 3])  \n",
    "values2 = np.array([1, 4, 2])  \n",
    "\n",
    "order = 0\n",
    "\n",
    "pp_sum = qf.ppolySum(breakpoints1, values1, breakpoints2, values2, order)\n",
    "breakpoints_sum = pp_sum[:, 0]\n",
    "values_sum = pp_sum[:, 1]\n",
    "\n",
    "pp_sum_eval = qf.ppolyEval(breakpoints_sum, values_sum, order, x, 0)\n",
    "pp1 = qf.ppolyEval(breakpoints1, values1, order, x, 0)\n",
    "pp2 = qf.ppolyEval(breakpoints2, values2, order, x, 0)\n",
    "\n",
    "plt.plot(x, pp1, label='Piecewise Polynomial 1')\n",
    "plt.plot(x, pp2, label='Piecewise Polynomial 2')\n",
    "plt.plot(x, pp_sum_eval, label='Sum of Piecewise Polynomials', linestyle='--')\n",
    "plt.xlabel('x')\n",
    "plt.ylabel('y')\n",
    "plt.title('Piecewise Polynomial Sum')\n",
    "plt.legend()\n",
    "plt.grid()\n",
    "plt.show()\n",
    "\n",
    "display(Markdown(f\"### The graph of the sum of the piecewise polynomials is correct.\"))"
   ]
  },
  {
   "cell_type": "code",
   "execution_count": null,
   "metadata": {},
   "outputs": [],
   "source": []
  }
 ],
 "metadata": {
  "kernelspec": {
   "display_name": "qfgb",
   "language": "python",
   "name": "python3"
  },
  "language_info": {
   "codemirror_mode": {
    "name": "ipython",
    "version": 3
   },
   "file_extension": ".py",
   "mimetype": "text/x-python",
   "name": "python",
   "nbconvert_exporter": "python",
   "pygments_lexer": "ipython3",
   "version": "3.12.8"
  }
 },
 "nbformat": 4,
 "nbformat_minor": 2
}
