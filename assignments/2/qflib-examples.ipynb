{
 "cells": [
  {
   "cell_type": "markdown",
   "id": "431f3433-79b3-4468-99a7-a8e1c771b141",
   "metadata": {
    "tags": []
   },
   "source": [
    "## qflib Library Examples"
   ]
  },
  {
   "cell_type": "code",
   "execution_count": null,
   "id": "b81b8583",
   "metadata": {},
   "outputs": [],
   "source": [
    "import sys\n",
    "import os\n",
    "import importlib\n",
    "\n",
    "# Clear any cached versions of qflib\n",
    "if 'qflib' in sys.modules:\n",
    "    del sys.modules['qflib']\n",
    "\n",
    "# Add the correct path to sys.path\n",
    "sys.path.insert(0, 'C:/Users/Omar/Desktop/qflib-0.2.0/pyqflib')\n",
    "\n",
    "# Now import qflib\n",
    "import qflib\n",
    "\n",
    "# Reload the module to ensure it's the latest version\n",
    "importlib.reload(qflib)\n",
    "\n",
    "print(qflib.__file__)\n"
   ]
  },
  {
   "cell_type": "code",
   "execution_count": 1,
   "id": "18bfdc25-3d7d-4508-bf2f-c798f544e650",
   "metadata": {},
   "outputs": [
    {
     "name": "stdout",
     "output_type": "stream",
     "text": [
      "qflib version: 0.2.0-debug\n",
      "pid: 13556\n"
     ]
    }
   ],
   "source": [
    "import qflib as qf\n",
    "import numpy as np\n",
    "import os\n",
    "\n",
    "print(\"qflib version: {0}\".format(qf.version()))\n",
    "print(\"pid: {0}\".format(os.getpid()))"
   ]
  },
  {
   "cell_type": "code",
   "execution_count": 2,
   "id": "89159a01-6357-4134-86db-72162a5a286b",
   "metadata": {},
   "outputs": [
    {
     "name": "stdout",
     "output_type": "stream",
     "text": [
      "Hello World!\n"
     ]
    }
   ],
   "source": [
    "name = \"World\"\n",
    "print(qf.sayHello(name))"
   ]
  },
  {
   "cell_type": "code",
   "execution_count": 3,
   "id": "a09cb38f-fb87-4248-b93b-243dac898e01",
   "metadata": {},
   "outputs": [
    {
     "name": "stdout",
     "output_type": "stream",
     "text": [
      "x: [1, 2, 3]\n",
      "y: [4, 5]\n",
      "outerProd:\n",
      "[[ 4.  5.]\n",
      " [ 8. 10.]\n",
      " [12. 15.]]\n"
     ]
    }
   ],
   "source": [
    "x = [1, 2, 3]\n",
    "y = [4, 5]\n",
    "op = qf.outerProd(x, y)\n",
    "print(f'x: {x}\\ny: {y}')\n",
    "print(f'outerProd:\\n{op}')"
   ]
  },
  {
   "cell_type": "markdown",
   "id": "17b8d7be-26a6-4b09-bf80-b3e36875202c",
   "metadata": {},
   "source": [
    "### Analytic Prices"
   ]
  },
  {
   "cell_type": "code",
   "execution_count": 4,
   "id": "82c85ec6-31c0-4c08-8bf0-c777687672e7",
   "metadata": {},
   "outputs": [
    {
     "name": "stdout",
     "output_type": "stream",
     "text": [
      "FwdPrice=98.0199\n"
     ]
    }
   ],
   "source": [
    "#fwdprice\n",
    "fwdpx = qf.fwdPrice(spot = 100, timetoexp = 1.0, intrate = 0.02, divyield = 0.04)\n",
    "print(f'FwdPrice={fwdpx:.4f}')"
   ]
  },
  {
   "cell_type": "code",
   "execution_count": 6,
   "id": "dcdb66e3-ce85-4708-8376-cdf0533c7ea4",
   "metadata": {},
   "outputs": [],
   "source": [
    "qfwd = qf.qFwdPrice(spot = 100, timetoexp = 1.0, intrate = 0.02, divyield = 0.04, assetvol = 0.2, fxvol = 0.3, assetfxcor = 0.5)"
   ]
  },
  {
   "cell_type": "code",
   "execution_count": null,
   "id": "29b75faa",
   "metadata": {},
   "outputs": [],
   "source": []
  },
  {
   "cell_type": "code",
   "execution_count": null,
   "id": "e2e1a25e",
   "metadata": {},
   "outputs": [],
   "source": []
  }
 ],
 "metadata": {
  "kernelspec": {
   "display_name": "Python (qfgb)",
   "language": "python",
   "name": "qfgb"
  },
  "language_info": {
   "codemirror_mode": {
    "name": "ipython",
    "version": 3
   },
   "file_extension": ".py",
   "mimetype": "text/x-python",
   "name": "python",
   "nbconvert_exporter": "python",
   "pygments_lexer": "ipython3",
   "version": "3.12.8"
  }
 },
 "nbformat": 4,
 "nbformat_minor": 5
}
