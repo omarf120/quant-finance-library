{
 "cells": [
  {
   "cell_type": "markdown",
   "id": "431f3433-79b3-4468-99a7-a8e1c771b141",
   "metadata": {
    "tags": []
   },
   "source": [
    "## qflib Library Examples"
   ]
  },
  {
   "cell_type": "code",
   "execution_count": 1,
   "id": "18bfdc25-3d7d-4508-bf2f-c798f544e650",
   "metadata": {},
   "outputs": [
    {
     "name": "stdout",
     "output_type": "stream",
     "text": [
      "qflib version: 0.4.0-debug\n",
      "pid: 4660\n"
     ]
    }
   ],
   "source": [
    "import qflib as qf\n",
    "import numpy as np\n",
    "import os\n",
    "\n",
    "print(\"qflib version: {0}\".format(qf.version()))\n",
    "print(\"pid: {0}\".format(os.getpid()))"
   ]
  },
  {
   "cell_type": "code",
   "execution_count": 2,
   "id": "89159a01-6357-4134-86db-72162a5a286b",
   "metadata": {},
   "outputs": [
    {
     "name": "stdout",
     "output_type": "stream",
     "text": [
      "Hello World!\n"
     ]
    }
   ],
   "source": [
    "name = \"World\"\n",
    "print(qf.sayHello(name))"
   ]
  },
  {
   "cell_type": "code",
   "execution_count": 3,
   "id": "a09cb38f-fb87-4248-b93b-243dac898e01",
   "metadata": {},
   "outputs": [
    {
     "name": "stdout",
     "output_type": "stream",
     "text": [
      "x: [1, 2, 3]\n",
      "y: [4, 5]\n",
      "outerProd:\n",
      "[[ 4.  5.]\n",
      " [ 8. 10.]\n",
      " [12. 15.]]\n"
     ]
    }
   ],
   "source": [
    "x = [1, 2, 3]\n",
    "y = [4, 5]\n",
    "op = qf.outerProd(x, y)\n",
    "print(f'x: {x}\\ny: {y}')\n",
    "print(f'outerProd:\\n{op}')"
   ]
  },
  {
   "cell_type": "code",
   "execution_count": 4,
   "id": "db352eac",
   "metadata": {},
   "outputs": [
    {
     "name": "stdout",
     "output_type": "stream",
     "text": [
      "orig matrix:\n",
      "[[1 2 3]\n",
      " [4 5 6]]\n",
      "echo matrix:\n",
      "[[1. 2. 3.]\n",
      " [4. 5. 6.]]\n"
     ]
    }
   ],
   "source": [
    "m = np.array([[1, 2, 3], [4, 5, 6]])\n",
    "em = qf.echoMatrix(m)\n",
    "print(f'orig matrix:\\n{m}')\n",
    "print(f'echo matrix:\\n{em}')"
   ]
  },
  {
   "cell_type": "markdown",
   "id": "17b8d7be-26a6-4b09-bf80-b3e36875202c",
   "metadata": {},
   "source": [
    "### Analytic Prices"
   ]
  },
  {
   "cell_type": "code",
   "execution_count": 5,
   "id": "82c85ec6-31c0-4c08-8bf0-c777687672e7",
   "metadata": {},
   "outputs": [
    {
     "name": "stdout",
     "output_type": "stream",
     "text": [
      "Forward price analytic solution\n",
      "Price=98.0199\n"
     ]
    }
   ],
   "source": [
    "#fwdprice\n",
    "fwdpx = qf.fwdPrice(spot = 100, timetoexp = 1.0, intrate = 0.02, divyield = 0.04)\n",
    "print('Forward price analytic solution')\n",
    "print(f'Price={fwdpx:.4f}')"
   ]
  },
  {
   "cell_type": "code",
   "execution_count": 8,
   "id": "01ab6e19-c6cf-4b00-8098-72b6048fafee",
   "metadata": {},
   "outputs": [
    {
     "name": "stdout",
     "output_type": "stream",
     "text": [
      "Digital option using Black-Scholes analytic solution\n",
      "Price=[ 4.12409075e-01  1.91649765e-02  2.12773982e-19 -4.65781345e-02\n",
      "  4.25547963e-16]\n"
     ]
    }
   ],
   "source": [
    "#digibs\n",
    "digi = qf.digiBS(payofftype = 1, spot = 100, timetoexp = 1.0, strike = 100,\n",
    "                  intrate = 0.02, divyield = 0.04, volatility = 0.2)\n",
    "print('Digital option using Black-Scholes analytic solution')\n",
    "print(f'Price={digi}')"
   ]
  },
  {
   "cell_type": "code",
   "execution_count": 9,
   "id": "a65d8d0e-56a3-4943-b418-a3e9864c14b7",
   "metadata": {},
   "outputs": [
    {
     "name": "stdout",
     "output_type": "stream",
     "text": [
      "European option using Black-Scholes analytic solution\n",
      "Price=[ 1.44327242e+01  5.37674769e-01  9.47528938e-03 -6.21622748e+00\n",
      "  3.79011575e+01]\n"
     ]
    }
   ],
   "source": [
    "euro = qf.euroBS(payofftype = 1, spot = 100, timetoexp = 1.0, strike = 100,\n",
    "                  intrate = 0.02, divyield = 0.04, volatility = 0.4)\n",
    "print('European option using Black-Scholes analytic solution')\n",
    "print(f'Price={euro}')"
   ]
  }
 ],
 "metadata": {
  "kernelspec": {
   "display_name": "qfgb",
   "language": "python",
   "name": "python3"
  },
  "language_info": {
   "codemirror_mode": {
    "name": "ipython",
    "version": 3
   },
   "file_extension": ".py",
   "mimetype": "text/x-python",
   "name": "python",
   "nbconvert_exporter": "python",
   "pygments_lexer": "ipython3",
   "version": "3.12.8"
  }
 },
 "nbformat": 4,
 "nbformat_minor": 5
}
