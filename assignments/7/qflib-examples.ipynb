{
 "cells": [
  {
   "cell_type": "markdown",
   "id": "431f3433-79b3-4468-99a7-a8e1c771b141",
   "metadata": {
    "tags": []
   },
   "source": [
    "## qflib Library Examples"
   ]
  },
  {
   "cell_type": "code",
   "execution_count": null,
   "id": "18bfdc25-3d7d-4508-bf2f-c798f544e650",
   "metadata": {},
   "outputs": [],
   "source": [
    "import qflib as qf\n",
    "import numpy as np\n",
    "import os\n",
    "import matplotlib.pyplot as plt\n",
    "plt.style.use('ggplot')\n",
    "\n",
    "print(\"qflib version: {0}\".format(qf.version()))\n",
    "print(\"pid: {0}\".format(os.getpid()))"
   ]
  },
  {
   "cell_type": "code",
   "execution_count": null,
   "id": "89159a01-6357-4134-86db-72162a5a286b",
   "metadata": {},
   "outputs": [],
   "source": [
    "name = \"World\"\n",
    "print(qf.sayHello(name))"
   ]
  },
  {
   "cell_type": "code",
   "execution_count": null,
   "id": "a09cb38f-fb87-4248-b93b-243dac898e01",
   "metadata": {},
   "outputs": [],
   "source": [
    "x = [1, 2, 3]\n",
    "y = [4, 5]\n",
    "op = qf.outerProd(x, y)\n",
    "print(f'x: {x}\\ny: {y}')\n",
    "print(f'outerProd:\\n{op}')"
   ]
  },
  {
   "cell_type": "code",
   "execution_count": null,
   "id": "db352eac",
   "metadata": {},
   "outputs": [],
   "source": [
    "# Matrix Echo\n",
    "m = np.array([[1, 2, 3], [4, 5, 6]])\n",
    "em = qf.echoMatrix(m)\n",
    "print(f'orig matrix:\\n{m}')\n",
    "print(f'echo matrix:\\n{em}')"
   ]
  },
  {
   "cell_type": "code",
   "execution_count": null,
   "id": "76d37afe-bf2e-473a-8b6d-52cb9134665b",
   "metadata": {},
   "outputs": [],
   "source": [
    "# Piecewise Polynomial Curves\n",
    "xbpt = np.arange(1, 6)\n",
    "yval =  np.arange(-10, 15, 5)\n",
    "pord = 1\n",
    "xval = np.arange(0.5, 5.55, 0.05)\n",
    "pval = qf.ppolyEval(xbpt, yval, pord, xval, 0)\n",
    "pder = qf.ppolyEval(xbpt, yval, pord, xval, 1)\n",
    "pint = qf.ppolyIntegral(xbpt, yval, pord, xval[0], xval)\n",
    "\n",
    "# plot\n",
    "plt.plot(xbpt, yval, color='black', marker='o')\n",
    "plt.plot(xval, pval, color='blue', label=\"values\")\n",
    "plt.plot(xval, pder, color='green', label=\"slopes\")\n",
    "plt.plot(xval, pint, color='red', label=\"integrals\")\n",
    "plt.title(\"Piecewise Polynomial Curve\")\n",
    "plt.legend(loc=\"upper left\")\n",
    "plt.xlabel('x')\n",
    "plt.ylabel('y');"
   ]
  },
  {
   "cell_type": "code",
   "execution_count": null,
   "id": "bc9e47ef-9824-4ae3-8cb9-4e99ddf8638c",
   "metadata": {},
   "outputs": [],
   "source": [
    "#Root bracketing and secant method search\n",
    "\n",
    "pcoeffs = [0, 2, 1]\n",
    "lolim = -4\n",
    "uplim = 3\n",
    "nsubs = 10\n",
    "\n",
    "brkts = qf.polyBracket(pcoeffs, lolim, uplim, nsubs)\n",
    "print(f\"Roots of polynomial: {pcoeffs}\")\n",
    "print(f\"Root brackets:\\n {brkts}\")\n",
    "\n",
    "root = qf.polySecant(pcoeffs, brkts[0, 0], brkts[0, 1], 1e-12)\n",
    "print(f\"root: {root:.4f}\")"
   ]
  },
  {
   "cell_type": "code",
   "execution_count": null,
   "id": "73072a03-bdda-49e3-a4d2-e317d9424960",
   "metadata": {},
   "outputs": [],
   "source": [
    "#ToContCmpd, FromContComp\n",
    "\n",
    "anfreq = 1\n",
    "inrate = 0.10\n",
    "ccrate = qf.toContCmpd(inrate, anfreq)\n",
    "outrate = qf.fromContCmpd(ccrate, anfreq)\n",
    "print('To and from continuous compounding')\n",
    "print(f'InRate={inrate:.4f}, CCRate={ccrate:.4f}, PerRate={outrate:.4f}')"
   ]
  },
  {
   "cell_type": "markdown",
   "id": "17b8d7be-26a6-4b09-bf80-b3e36875202c",
   "metadata": {},
   "source": [
    "### Analytic Prices"
   ]
  },
  {
   "cell_type": "code",
   "execution_count": null,
   "id": "82c85ec6-31c0-4c08-8bf0-c777687672e7",
   "metadata": {},
   "outputs": [],
   "source": [
    "#fwdprice\n",
    "fwdpx = qf.fwdPrice(spot = 100, timetoexp = 1.0, intrate = 0.02, divyield = 0.04)\n",
    "print('Forward price analytic solution')\n",
    "print(f'Price={fwdpx:.4f}')"
   ]
  },
  {
   "cell_type": "code",
   "execution_count": null,
   "id": "01ab6e19-c6cf-4b00-8098-72b6048fafee",
   "metadata": {},
   "outputs": [],
   "source": [
    "#digibs\n",
    "digi = qf.digiBS(payofftype = 1, spot = 100, timetoexp = 1.0, strike = 100,\n",
    "                  intrate = 0.02, divyield = 0.04, volatility = 0.2)\n",
    "print('Digital option using Black-Scholes analytic solution')\n",
    "print(f'Price={digi:.4f}')"
   ]
  },
  {
   "cell_type": "code",
   "execution_count": null,
   "id": "a65d8d0e-56a3-4943-b418-a3e9864c14b7",
   "metadata": {},
   "outputs": [],
   "source": [
    "#eurobs\n",
    "euro = qf.euroBS(payofftype = 1, spot = 100, timetoexp = 1.0, strike = 100,\n",
    "                  intrate = 0.02, divyield = 0.04, volatility = 0.4)\n",
    "print('European option using Black-Scholes analytic solution')\n",
    "print(f'Price={euro:.4f}')"
   ]
  },
  {
   "cell_type": "markdown",
   "id": "908970b5-1782-4db7-a396-1e16e3c98f55",
   "metadata": {},
   "source": [
    "### Market Objects"
   ]
  },
  {
   "cell_type": "code",
   "execution_count": null,
   "id": "dd2a9644-efe2-4025-9dd4-26c06213ee6d",
   "metadata": {},
   "outputs": [],
   "source": [
    "#yccreate\n",
    "ycname = \"USD\"\n",
    "yc = qf.ycCreate(ycname = ycname, \n",
    "                  tmats = [1/12,   1/4,  1/2,   3/4,    1,     2,    3,     4,    5,      10], \n",
    "                  vals =  [0.01,  0.02, 0.03, 0.035, 0.04, 0.045, 0.05, 0.055, 0.0575, 0.065],\n",
    "                  valtype = 0)\n",
    "print(f'Created yield curve: {yc}')"
   ]
  },
  {
   "cell_type": "code",
   "execution_count": null,
   "id": "bdb792da-f544-40db-98f0-50b9abacabda",
   "metadata": {},
   "outputs": [],
   "source": [
    "#discount, spotrate, fwdrate\n",
    "tmat = 2.0 # years\n",
    "tfix = 1.0 # years\n",
    "df = qf.discount(ycname = yc, tmat = tmat)\n",
    "spotrate = qf.spotRate(ycname = yc, tmat = tmat)\n",
    "fwdrate = qf.fwdRate(ycname = yc, tmat1 = tfix, tmat2 = tmat)\n",
    "print(f'Maturity={tmat} years, DF={df:.4f}, SpotRate={spotrate:.4f}, FwdRate={fwdrate:.4f}')"
   ]
  },
  {
   "cell_type": "code",
   "execution_count": null,
   "id": "4014caa9-634b-4e7b-87db-8859d0b1a332",
   "metadata": {},
   "outputs": [],
   "source": [
    "#create a 2 year weekly array\n",
    "tweekly = [i / 52.0 for i in range(1, 105)]\n",
    "spotRates = [qf.spotRate(yc, tmat) for tmat in tweekly] \n",
    "fwdRates = [qf.fwdRate(yc, tmat1, tmat2 ) for tmat1, tmat2 in zip(tweekly[:-1], tweekly[1:])]\n",
    "fwdRates.insert(0, qf.fwdRate(yc, 0, tweekly[0]))"
   ]
  },
  {
   "cell_type": "code",
   "execution_count": null,
   "id": "975d8959-d230-41d3-bfed-bf57eb29df84",
   "metadata": {},
   "outputs": [],
   "source": [
    "# plot\n",
    "plt.plot(tweekly, spotRates, color='black', label=\"spot rate\")\n",
    "plt.plot(tweekly, fwdRates, color='blue', label=\"fwd rate\")\n",
    "plt.title(\"Spot and Forward Rates\")\n",
    "plt.legend(loc=\"upper left\")\n",
    "plt.xlabel('maturity (yr)')\n",
    "plt.ylabel('rate');"
   ]
  },
  {
   "cell_type": "code",
   "execution_count": null,
   "id": "87e61052-5be8-4255-a6ff-309414e84ea6",
   "metadata": {},
   "outputs": [],
   "source": [
    "# list market contents\n",
    "print(qf.mktList())"
   ]
  }
 ],
 "metadata": {
  "kernelspec": {
   "display_name": "Python 3 (ipykernel)",
   "language": "python",
   "name": "python3"
  },
  "language_info": {
   "codemirror_mode": {
    "name": "ipython",
    "version": 3
   },
   "file_extension": ".py",
   "mimetype": "text/x-python",
   "name": "python",
   "nbconvert_exporter": "python",
   "pygments_lexer": "ipython3",
   "version": "3.12.6"
  }
 },
 "nbformat": 4,
 "nbformat_minor": 5
}
