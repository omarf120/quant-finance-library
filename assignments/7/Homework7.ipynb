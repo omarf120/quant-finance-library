{
 "cells": [
  {
   "cell_type": "code",
   "execution_count": 58,
   "metadata": {},
   "outputs": [
    {
     "data": {
      "text/plain": [
       "'0.7.0-debug'"
      ]
     },
     "execution_count": 58,
     "metadata": {},
     "output_type": "execute_result"
    }
   ],
   "source": [
    "import qflib as qf\n",
    "import numpy as np\n",
    "import pandas as pd\n",
    "\n",
    "qf.version()"
   ]
  },
  {
   "cell_type": "markdown",
   "metadata": {},
   "source": [
    "### Problem 1"
   ]
  },
  {
   "cell_type": "code",
   "execution_count": 59,
   "metadata": {},
   "outputs": [
    {
     "name": "stdout",
     "output_type": "stream",
     "text": [
      "Part 1: The total price of the 5 caplets are: $10244.265626430695\n",
      "Part 2: The total price of the 5 floorlets are: $15101.817906797192\n",
      "Part 3: The value of the swap is: $-4857.552280366464\n",
      "Part 4:\n",
      "The total caplet price minus total floorlet price is\n",
      "10244.2656 - 15101.8179 = -4857.5523\n",
      "which is equivalent to the value of the swap -4857.5523.\n",
      "So the parity relation CAP - FLOOR = SWAP holds true.\n"
     ]
    }
   ],
   "source": [
    "maturities = [1/12, 1/4, 1/2, 3/4, 1, 2, 3, 5]\n",
    "spot_rates = [0.01, 0.02, 0.03, 0.035, 0.04, 0.0475, 0.0525, 0.06]\n",
    "\n",
    "yc_name = \"USD-LIBOR\"\n",
    "qf.ycCreate(yc_name, maturities, spot_rates, 1)\n",
    "\n",
    "strike_rate = 0.05\n",
    "coupon_rate = 0.05\n",
    "fwd_rate_vol = 0.2\n",
    "notional = 1000000\n",
    "tenor = 0.5\n",
    "\n",
    "reset_times = np.arange(0.5, 3, tenor)\n",
    "payment_times = reset_times + tenor\n",
    "\n",
    "total_caplet_price = 0.0\n",
    "for i in range(len(reset_times)):\n",
    "    caplet_price = qf.capFloorletBS(1, yc_name, strike_rate, reset_times[i], tenor, fwd_rate_vol)\n",
    "    total_caplet_price += caplet_price\n",
    "notional_caplet = total_caplet_price * notional\n",
    "\n",
    "print(f\"Part 1: The total price of the 5 caplets are: ${notional_caplet}\")\n",
    "\n",
    "total_floorlet_price = 0.0\n",
    "for i in range(len(reset_times)):\n",
    "    floorlet_price = qf.capFloorletBS(-1, yc_name, strike_rate, reset_times[i], tenor, fwd_rate_vol)\n",
    "    total_floorlet_price += floorlet_price\n",
    "notional_floorlet = total_floorlet_price * notional\n",
    "\n",
    "print(f\"Part 2: The total price of the 5 floorlets are: ${notional_floorlet}\")\n",
    "\n",
    "pv_fixed_leg = 0.0\n",
    "for i in range(len(payment_times)):\n",
    "    fixed_payment = coupon_rate * notional * tenor\n",
    "    df = qf.discount(yc_name, payment_times[i])\n",
    "    pv_payment = fixed_payment * df\n",
    "    pv_fixed_leg += pv_payment\n",
    "\n",
    "pv_floating_leg = 0.0\n",
    "for i in range(len(payment_times)):\n",
    "    fwd_rate_cont = qf.fwdRate(yc_name, reset_times[i], payment_times[i])\n",
    "    fwd_rate_disc = qf.fromContCmpd(fwd_rate_cont, int(1/tenor))\n",
    "    floating_payment = fwd_rate_disc * notional * tenor\n",
    "    df = qf.discount(yc_name, payment_times[i])\n",
    "    pv_payment = floating_payment * df\n",
    "    pv_floating_leg += pv_payment\n",
    "\n",
    "swap_value = pv_floating_leg - pv_fixed_leg\n",
    "\n",
    "print(f\"Part 3: The value of the swap is: ${swap_value}\")\n",
    "\n",
    "print(f\"Part 4:\\nThe total caplet price minus total floorlet price is\\n{notional_caplet:.4f} - {notional_floorlet:.4f} = {(notional_caplet - notional_floorlet):.4f}\\nwhich is equivalent to the value of the swap {swap_value:.4f}.\\nSo the parity relation CAP - FLOOR = SWAP holds true.\")"
   ]
  },
  {
   "cell_type": "markdown",
   "metadata": {},
   "source": [
    "### Problem 2"
   ]
  },
  {
   "cell_type": "code",
   "execution_count": 65,
   "metadata": {},
   "outputs": [
    {
     "name": "stdout",
     "output_type": "stream",
     "text": [
      "   Maturity   Default Leg   Premium Leg  Difference\n",
      "0         1   9743.642043   9743.642043         0.0\n",
      "1         2  18966.157115  18966.157115         0.0\n",
      "2         3  27640.907344  27640.907344         0.0\n",
      "3         4  35744.622236  35744.622236         0.0\n",
      "4         5  43300.475919  43300.475919         0.0\n",
      "For every maturity, the difference between the default leg and premium leg is 0\n"
     ]
    }
   ],
   "source": [
    "credit_spread = 0.01\n",
    "cds_rate_cont = 0.01\n",
    "recovery = 0.0\n",
    "freq = 2\n",
    "notional = 1000000\n",
    "\n",
    "cds_rate_disc = qf.fromContCmpd(cds_rate_cont, freq)\n",
    "maturities = [1, 2, 3, 4, 5]\n",
    "\n",
    "default_legs = []\n",
    "premium_legs = []\n",
    "for i in range(len(maturities)):\n",
    "    pv_cds = qf.cdsPV(yc_name, credit_spread, cds_rate_disc, recovery, maturities[i], freq)\n",
    "    default_legs.append(pv_cds[0] * notional)\n",
    "    premium_legs.append(pv_cds[1] * notional)\n",
    "\n",
    "difference = np.array(default_legs) - np.array(premium_legs)\n",
    "\n",
    "table = {\n",
    "    \"Maturity\": maturities,\n",
    "    \"Default Leg\": default_legs,\n",
    "    \"Premium Leg\": premium_legs,\n",
    "    \"Difference\": difference.round(8)\n",
    "}\n",
    "df = pd.DataFrame(table)\n",
    "\n",
    "print(df)\n",
    "print(f\"For every maturity, the difference between the default leg and premium leg is 0\")\n",
    "\n",
    "\n",
    "\n",
    "\n"
   ]
  }
 ],
 "metadata": {
  "kernelspec": {
   "display_name": "qfgb",
   "language": "python",
   "name": "python3"
  },
  "language_info": {
   "codemirror_mode": {
    "name": "ipython",
    "version": 3
   },
   "file_extension": ".py",
   "mimetype": "text/x-python",
   "name": "python",
   "nbconvert_exporter": "python",
   "pygments_lexer": "ipython3",
   "version": "3.12.8"
  }
 },
 "nbformat": 4,
 "nbformat_minor": 2
}
